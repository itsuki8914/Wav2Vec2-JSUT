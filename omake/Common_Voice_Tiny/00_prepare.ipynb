{
 "cells": [
  {
   "cell_type": "code",
   "execution_count": 1,
   "id": "b26f30cb",
   "metadata": {},
   "outputs": [
    {
     "name": "stderr",
     "output_type": "stream",
     "text": [
      "/usr/lib/python3/dist-packages/requests/__init__.py:89: RequestsDependencyWarning: urllib3 (1.26.10) or chardet (3.0.4) doesn't match a supported version!\n",
      "  warnings.warn(\"urllib3 ({}) or chardet ({}) doesn't match a supported \"\n"
     ]
    }
   ],
   "source": [
    "import os, glob\n",
    "import librosa\n",
    "import soundfile as sf\n",
    "import warnings\n",
    "import time"
   ]
  },
  {
   "cell_type": "code",
   "execution_count": 2,
   "id": "36ec2620",
   "metadata": {},
   "outputs": [],
   "source": [
    "def conv_and_resample(f):\n",
    "    wav_path_out = os.path.join(out_wav_dir, os.path.basename(f).split('.')[0] + '.wav')\n",
    "    x, sr = librosa.load(f)\n",
    "    y = librosa.resample(y=x, orig_sr=sr, target_sr=TGT_SR)\n",
    "    sf.write(wav_path_out, y, TGT_SR) "
   ]
  },
  {
   "cell_type": "code",
   "execution_count": 3,
   "id": "8998d0e3",
   "metadata": {},
   "outputs": [],
   "source": [
    "warnings.filterwarnings('ignore')\n",
    "TGT_SR = 16000\n",
    "clip_files = sorted(glob.glob('*corpus*ja/*/ja/clips/*'))\n",
    "num_files = len(clip_files)"
   ]
  },
  {
   "cell_type": "code",
   "execution_count": 4,
   "id": "5d48b87c",
   "metadata": {},
   "outputs": [],
   "source": [
    "# フォーマット変換したwavファイルを出力するディレクトリ\n",
    "out_wav_dir = './data/processed_clips'\n",
    "os.makedirs(out_wav_dir, exist_ok=True)"
   ]
  },
  {
   "cell_type": "code",
   "execution_count": 5,
   "id": "aa5fe91b",
   "metadata": {},
   "outputs": [
    {
     "name": "stdout",
     "output_type": "stream",
     "text": [
      "0/37220\n",
      "1000/37220\n",
      "2000/37220\n",
      "3000/37220\n",
      "4000/37220\n",
      "5000/37220\n",
      "6000/37220\n",
      "7000/37220\n",
      "8000/37220\n",
      "9000/37220\n",
      "10000/37220\n",
      "11000/37220\n",
      "12000/37220\n",
      "13000/37220\n",
      "14000/37220\n",
      "15000/37220\n",
      "16000/37220\n",
      "17000/37220\n",
      "18000/37220\n",
      "19000/37220\n",
      "20000/37220\n",
      "21000/37220\n",
      "22000/37220\n",
      "23000/37220\n",
      "24000/37220\n",
      "25000/37220\n",
      "26000/37220\n",
      "27000/37220\n",
      "28000/37220\n",
      "29000/37220\n",
      "30000/37220\n",
      "31000/37220\n",
      "32000/37220\n",
      "33000/37220\n",
      "34000/37220\n",
      "35000/37220\n",
      "36000/37220\n",
      "37000/37220\n",
      "CPU times: user 9h 13min 15s, sys: 24min 30s, total: 9h 37min 46s\n",
      "Wall time: 2h 41min 17s\n"
     ]
    }
   ],
   "source": [
    "%%time\n",
    "for i, f in enumerate(clip_files):\n",
    "    conv_and_resample(f)\n",
    "    if i%1000==0: print(f'{i}/{num_files}')"
   ]
  }
 ],
 "metadata": {
  "kernelspec": {
   "display_name": "Python 3 (ipykernel)",
   "language": "python",
   "name": "python3"
  },
  "language_info": {
   "codemirror_mode": {
    "name": "ipython",
    "version": 3
   },
   "file_extension": ".py",
   "mimetype": "text/x-python",
   "name": "python",
   "nbconvert_exporter": "python",
   "pygments_lexer": "ipython3",
   "version": "3.8.10"
  }
 },
 "nbformat": 4,
 "nbformat_minor": 5
}
